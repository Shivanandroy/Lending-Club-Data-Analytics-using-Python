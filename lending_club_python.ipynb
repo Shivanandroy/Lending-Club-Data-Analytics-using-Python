{
 "cells": [
  {
   "cell_type": "markdown",
   "metadata": {},
   "source": [
    "We'll download the 2013-2014 data and uncompress it from inside our notebook by invoking the command line (I didn't feel like installing wget on OSX but at least we have curl:"
   ]
  },
  {
   "cell_type": "code",
   "execution_count": null,
   "metadata": {
    "collapsed": false
   },
   "outputs": [],
   "source": [
    "%%bash\n",
    "curl https://resources.lendingclub.com/LoanStats3c_securev.csv.zip | tar -xf-"
   ]
  },
  {
   "cell_type": "markdown",
   "metadata": {},
   "source": [
    "Let's also take a quick look at the data via bash (file size, head, line count, column count)."
   ]
  },
  {
   "cell_type": "code",
   "execution_count": null,
   "metadata": {
    "collapsed": false
   },
   "outputs": [],
   "source": [
    "!du -h LoanStats3c_securev.csv"
   ]
  },
  {
   "cell_type": "code",
   "execution_count": null,
   "metadata": {
    "collapsed": false
   },
   "outputs": [],
   "source": [
    "!head -n 2 LoanStats3c_securev.csv"
   ]
  },
  {
   "cell_type": "markdown",
   "metadata": {},
   "source": [
    "Examining the data we see that most of feature names are intuitive. We can get the specifics from the provided data dictionary at https://www.lendingclub.com/info/download-data.action"
   ]
  },
  {
   "cell_type": "code",
   "execution_count": null,
   "metadata": {
    "collapsed": false
   },
   "outputs": [],
   "source": [
    "!wc -l < LoanStats3c_securev.csv"
   ]
  },
  {
   "cell_type": "code",
   "execution_count": null,
   "metadata": {
    "collapsed": false
   },
   "outputs": [],
   "source": [
    "!head -2 LoanStats3c_securev.csv | sed 's/[^,]//g' | wc -c"
   ]
  },
  {
   "cell_type": "markdown",
   "metadata": {},
   "source": [
    "It looks we have 235,630 entries and 57 attributes. At a glance some of the more notable atributes are:\n",
    "\n",
    "1. Amount Requested\n",
    "2. Amount Funded by Investors*\n",
    "3. Interest Rate\n",
    "4. Term (Loan Length)\n",
    "5. Purpose of Loan\n",
    "6. Debt/Income Ratio **\n",
    "7. State\n",
    "8. Rent or Own Home\n",
    "9. Annual Income\n",
    "10.  30+ days past-due incidences of delinquency in the borrower's credit file for the past 2 years\n",
    "10. FICO Low\n",
    "11. FICO High\n",
    "12. Last FICO Low\n",
    "13. Last FiCO High\n",
    "12. Credit Lines Open\n",
    "13. Revolving Balance\n",
    "14. Inquiries in Last 6 Months\n",
    "15. Length of Employment\n",
    "\n",
    "The last vs current FICO scores did not exist the last time we looked at the data, I'm thinking they added this to asses directionality or momentum, although this few of samples is suspicious. Interestingly enough when looking through the attributes provided for declined loans I found a \"score\" attribute which was desribed as such: \n",
    "\n",
    ">*For applications prior to November 5, 2013 the risk score is the borrower's FICO score. For applications after November 5, 2013 the risk score is the borrower's [Vantage](https://en.wikipedia.org/wiki/VantageScore) score.*\n",
    "\n",
    "I suspect they are actually using both.\n",
    "\n",
    "*Lending club states that the amount funded by investors has no affect on the final interest rate assigned to a loan.\n",
    "\n",
    "** Debt/Income Ratio ratio takes all of your monthly liabilities and divides the total by your gross monthly income.\n",
    "\n",
    "# 1. Our Data\n",
    "Let's use Pandas to manipulate our data and find an excuse to use the new pipe operators http://pandas.pydata.org/pandas-docs/stable/generated/pandas.DataFrame.pipe.html\n",
    "\n",
    "Our data is 126mb on disk, 102.2 in memory, not the greatest reduction in side I've seen, but we have a lot of inefficient `object` data types in the df to start."
   ]
  },
  {
   "cell_type": "code",
   "execution_count": 98,
   "metadata": {
    "collapsed": true
   },
   "outputs": [],
   "source": [
    "import numpy as np\n",
    "import pandas as pd\n",
    "import seaborn as sns\n",
    "%matplotlib inline  "
   ]
  },
  {
   "cell_type": "code",
   "execution_count": 99,
   "metadata": {
    "collapsed": false
   },
   "outputs": [
    {
     "name": "stdout",
     "output_type": "stream",
     "text": [
      "<class 'pandas.core.frame.DataFrame'>\n",
      "Int64Index: 235629 entries, 0 to 235628\n",
      "Data columns (total 56 columns):\n",
      "id                             235629 non-null int64\n",
      "member_id                      235629 non-null int64\n",
      "loan_amnt                      235629 non-null int64\n",
      "funded_amnt                    235629 non-null int64\n",
      "funded_amnt_inv                235629 non-null int64\n",
      "term                           235629 non-null object\n",
      "int_rate                       235629 non-null object\n",
      "installment                    235629 non-null float64\n",
      "grade                          235629 non-null object\n",
      "sub_grade                      235629 non-null object\n",
      "emp_title                      222393 non-null object\n",
      "emp_length                     235629 non-null object\n",
      "home_ownership                 235629 non-null object\n",
      "annual_inc                     235629 non-null float64\n",
      "verification_status            235629 non-null object\n",
      "issue_d                        235629 non-null object\n",
      "loan_status                    235629 non-null object\n",
      "pymnt_plan                     235629 non-null object\n",
      "url                            235629 non-null object\n",
      "desc                           15279 non-null object\n",
      "purpose                        235629 non-null object\n",
      "title                          235629 non-null object\n",
      "zip_code                       235629 non-null object\n",
      "addr_state                     235629 non-null object\n",
      "dti                            235629 non-null float64\n",
      "delinq_2yrs                    235629 non-null int64\n",
      "earliest_cr_line               235629 non-null object\n",
      "fico_range_low                 235629 non-null int64\n",
      "fico_range_high                235629 non-null int64\n",
      "inq_last_6mths                 235629 non-null int64\n",
      "mths_since_last_delinq         119748 non-null float64\n",
      "mths_since_last_record         41524 non-null float64\n",
      "open_acc                       235629 non-null int64\n",
      "pub_rec                        235629 non-null int64\n",
      "revol_bal                      235629 non-null int64\n",
      "revol_util                     235504 non-null object\n",
      "total_acc                      235629 non-null int64\n",
      "initial_list_status            235629 non-null object\n",
      "out_prncp                      235629 non-null float64\n",
      "out_prncp_inv                  235629 non-null float64\n",
      "total_pymnt                    235629 non-null float64\n",
      "total_pymnt_inv                235629 non-null float64\n",
      "total_rec_prncp                235629 non-null float64\n",
      "total_rec_int                  235629 non-null float64\n",
      "total_rec_late_fee             235629 non-null float64\n",
      "recoveries                     235629 non-null float64\n",
      "collection_recovery_fee        235629 non-null float64\n",
      "last_pymnt_d                   235486 non-null object\n",
      "last_pymnt_amnt                235629 non-null float64\n",
      "next_pymnt_d                   200795 non-null object\n",
      "last_credit_pull_d             235602 non-null object\n",
      "last_fico_range_high           235629 non-null int64\n",
      "last_fico_range_low            235629 non-null int64\n",
      "collections_12_mths_ex_med     235629 non-null int64\n",
      "mths_since_last_major_derog    66478 non-null float64\n",
      "policy_code                    235629 non-null int64\n",
      "dtypes: float64(16), int64(17), object(23)\n",
      "memory usage: 102.5+ MB\n"
     ]
    }
   ],
   "source": [
    "df = pd.read_csv(\"LoanStats3c_securev.csv\",skiprows=1)\n",
    "df.info()"
   ]
  },
  {
   "cell_type": "code",
   "execution_count": 100,
   "metadata": {
    "collapsed": false
   },
   "outputs": [
    {
     "data": {
      "text/html": [
       "<div>\n",
       "<table border=\"1\" class=\"dataframe\">\n",
       "  <thead>\n",
       "    <tr style=\"text-align: right;\">\n",
       "      <th></th>\n",
       "      <th>id</th>\n",
       "      <th>member_id</th>\n",
       "      <th>loan_amnt</th>\n",
       "      <th>funded_amnt</th>\n",
       "      <th>funded_amnt_inv</th>\n",
       "      <th>term</th>\n",
       "      <th>int_rate</th>\n",
       "      <th>installment</th>\n",
       "      <th>grade</th>\n",
       "      <th>sub_grade</th>\n",
       "      <th>...</th>\n",
       "      <th>collection_recovery_fee</th>\n",
       "      <th>last_pymnt_d</th>\n",
       "      <th>last_pymnt_amnt</th>\n",
       "      <th>next_pymnt_d</th>\n",
       "      <th>last_credit_pull_d</th>\n",
       "      <th>last_fico_range_high</th>\n",
       "      <th>last_fico_range_low</th>\n",
       "      <th>collections_12_mths_ex_med</th>\n",
       "      <th>mths_since_last_major_derog</th>\n",
       "      <th>policy_code</th>\n",
       "    </tr>\n",
       "  </thead>\n",
       "  <tbody>\n",
       "    <tr>\n",
       "      <th>0</th>\n",
       "      <td>36805548</td>\n",
       "      <td>39558264</td>\n",
       "      <td>10400</td>\n",
       "      <td>10400</td>\n",
       "      <td>10400</td>\n",
       "      <td>36 months</td>\n",
       "      <td>6.99%</td>\n",
       "      <td>321.08</td>\n",
       "      <td>A</td>\n",
       "      <td>A3</td>\n",
       "      <td>...</td>\n",
       "      <td>0</td>\n",
       "      <td>Jun-2015</td>\n",
       "      <td>321.08</td>\n",
       "      <td>Jul-2015</td>\n",
       "      <td>Jun-2015</td>\n",
       "      <td>679</td>\n",
       "      <td>675</td>\n",
       "      <td>0</td>\n",
       "      <td>59</td>\n",
       "      <td>1</td>\n",
       "    </tr>\n",
       "    <tr>\n",
       "      <th>1</th>\n",
       "      <td>38098114</td>\n",
       "      <td>40860827</td>\n",
       "      <td>15000</td>\n",
       "      <td>15000</td>\n",
       "      <td>15000</td>\n",
       "      <td>60 months</td>\n",
       "      <td>12.39%</td>\n",
       "      <td>336.64</td>\n",
       "      <td>C</td>\n",
       "      <td>C1</td>\n",
       "      <td>...</td>\n",
       "      <td>0</td>\n",
       "      <td>Jun-2015</td>\n",
       "      <td>336.64</td>\n",
       "      <td>Jul-2015</td>\n",
       "      <td>Jun-2015</td>\n",
       "      <td>684</td>\n",
       "      <td>680</td>\n",
       "      <td>0</td>\n",
       "      <td>NaN</td>\n",
       "      <td>1</td>\n",
       "    </tr>\n",
       "    <tr>\n",
       "      <th>2</th>\n",
       "      <td>37662224</td>\n",
       "      <td>40425321</td>\n",
       "      <td>7650</td>\n",
       "      <td>7650</td>\n",
       "      <td>7650</td>\n",
       "      <td>36 months</td>\n",
       "      <td>13.66%</td>\n",
       "      <td>260.20</td>\n",
       "      <td>C</td>\n",
       "      <td>C3</td>\n",
       "      <td>...</td>\n",
       "      <td>0</td>\n",
       "      <td>May-2015</td>\n",
       "      <td>260.20</td>\n",
       "      <td>Jul-2015</td>\n",
       "      <td>Jun-2015</td>\n",
       "      <td>689</td>\n",
       "      <td>685</td>\n",
       "      <td>0</td>\n",
       "      <td>NaN</td>\n",
       "      <td>1</td>\n",
       "    </tr>\n",
       "  </tbody>\n",
       "</table>\n",
       "<p>3 rows × 56 columns</p>\n",
       "</div>"
      ],
      "text/plain": [
       "         id  member_id  loan_amnt  funded_amnt  funded_amnt_inv        term  \\\n",
       "0  36805548   39558264      10400        10400            10400   36 months   \n",
       "1  38098114   40860827      15000        15000            15000   60 months   \n",
       "2  37662224   40425321       7650         7650             7650   36 months   \n",
       "\n",
       "  int_rate  installment grade sub_grade     ...     collection_recovery_fee  \\\n",
       "0    6.99%       321.08     A        A3     ...                           0   \n",
       "1   12.39%       336.64     C        C1     ...                           0   \n",
       "2   13.66%       260.20     C        C3     ...                           0   \n",
       "\n",
       "  last_pymnt_d last_pymnt_amnt  next_pymnt_d last_credit_pull_d  \\\n",
       "0     Jun-2015          321.08      Jul-2015           Jun-2015   \n",
       "1     Jun-2015          336.64      Jul-2015           Jun-2015   \n",
       "2     May-2015          260.20      Jul-2015           Jun-2015   \n",
       "\n",
       "  last_fico_range_high last_fico_range_low collections_12_mths_ex_med  \\\n",
       "0                  679                 675                          0   \n",
       "1                  684                 680                          0   \n",
       "2                  689                 685                          0   \n",
       "\n",
       "  mths_since_last_major_derog policy_code  \n",
       "0                          59           1  \n",
       "1                         NaN           1  \n",
       "2                         NaN           1  \n",
       "\n",
       "[3 rows x 56 columns]"
      ]
     },
     "execution_count": 100,
     "metadata": {},
     "output_type": "execute_result"
    }
   ],
   "source": [
    "df.head(3)"
   ]
  },
  {
   "cell_type": "markdown",
   "metadata": {},
   "source": [
    "# Keeping what we need\n",
    "Let's work through our list of attributes slice-by-slice and figure out what we really need. This involves dropping some useless attributes and cleaning-up/modifying others. Let's work through the columns in batches to keep the cognitive burden low:"
   ]
  },
  {
   "cell_type": "code",
   "execution_count": 101,
   "metadata": {
    "collapsed": false
   },
   "outputs": [
    {
     "data": {
      "text/html": [
       "<div>\n",
       "<table border=\"1\" class=\"dataframe\">\n",
       "  <thead>\n",
       "    <tr style=\"text-align: right;\">\n",
       "      <th></th>\n",
       "      <th>id</th>\n",
       "      <th>member_id</th>\n",
       "      <th>loan_amnt</th>\n",
       "      <th>funded_amnt</th>\n",
       "      <th>funded_amnt_inv</th>\n",
       "      <th>term</th>\n",
       "      <th>int_rate</th>\n",
       "    </tr>\n",
       "  </thead>\n",
       "  <tbody>\n",
       "    <tr>\n",
       "      <th>0</th>\n",
       "      <td>36805548</td>\n",
       "      <td>39558264</td>\n",
       "      <td>10400</td>\n",
       "      <td>10400</td>\n",
       "      <td>10400</td>\n",
       "      <td>36 months</td>\n",
       "      <td>6.99%</td>\n",
       "    </tr>\n",
       "    <tr>\n",
       "      <th>1</th>\n",
       "      <td>38098114</td>\n",
       "      <td>40860827</td>\n",
       "      <td>15000</td>\n",
       "      <td>15000</td>\n",
       "      <td>15000</td>\n",
       "      <td>60 months</td>\n",
       "      <td>12.39%</td>\n",
       "    </tr>\n",
       "    <tr>\n",
       "      <th>2</th>\n",
       "      <td>37662224</td>\n",
       "      <td>40425321</td>\n",
       "      <td>7650</td>\n",
       "      <td>7650</td>\n",
       "      <td>7650</td>\n",
       "      <td>36 months</td>\n",
       "      <td>13.66%</td>\n",
       "    </tr>\n",
       "    <tr>\n",
       "      <th>3</th>\n",
       "      <td>37612354</td>\n",
       "      <td>40375473</td>\n",
       "      <td>12800</td>\n",
       "      <td>12800</td>\n",
       "      <td>12800</td>\n",
       "      <td>60 months</td>\n",
       "      <td>17.14%</td>\n",
       "    </tr>\n",
       "    <tr>\n",
       "      <th>4</th>\n",
       "      <td>37822187</td>\n",
       "      <td>40585251</td>\n",
       "      <td>9600</td>\n",
       "      <td>9600</td>\n",
       "      <td>9600</td>\n",
       "      <td>36 months</td>\n",
       "      <td>13.66%</td>\n",
       "    </tr>\n",
       "  </tbody>\n",
       "</table>\n",
       "</div>"
      ],
      "text/plain": [
       "         id  member_id  loan_amnt  funded_amnt  funded_amnt_inv        term  \\\n",
       "0  36805548   39558264      10400        10400            10400   36 months   \n",
       "1  38098114   40860827      15000        15000            15000   60 months   \n",
       "2  37662224   40425321       7650         7650             7650   36 months   \n",
       "3  37612354   40375473      12800        12800            12800   60 months   \n",
       "4  37822187   40585251       9600         9600             9600   36 months   \n",
       "\n",
       "  int_rate  \n",
       "0    6.99%  \n",
       "1   12.39%  \n",
       "2   13.66%  \n",
       "3   17.14%  \n",
       "4   13.66%  "
      ]
     },
     "execution_count": 101,
     "metadata": {},
     "output_type": "execute_result"
    }
   ],
   "source": [
    "# .ix[row slice, column slice] \n",
    "df.ix[:4,:7]"
   ]
  },
  {
   "cell_type": "markdown",
   "metadata": {},
   "source": [
    "1. We won't need id or member_id as it has no real predictive power so we can drop them from this table\n",
    "2. int_rate was loaded as an `object` data type instead of `float` due to the '%' character. Let's strip that out and convert the column type."
   ]
  },
  {
   "cell_type": "code",
   "execution_count": 102,
   "metadata": {
    "collapsed": false
   },
   "outputs": [],
   "source": [
    "df.drop(['id','member_id'],1, inplace=True)"
   ]
  },
  {
   "cell_type": "code",
   "execution_count": 103,
   "metadata": {
    "collapsed": false
   },
   "outputs": [],
   "source": [
    "df.int_rate = pd.Series(df.int_rate).str.replace('%', '').astype(float)"
   ]
  },
  {
   "cell_type": "markdown",
   "metadata": {},
   "source": [
    "##  Loan Amount Requested Verus the Funded Amount \n",
    "At a glance I thought it important to discover the relationship between loan amount requested verus the funded amount to see if Lending Club ever issues a lower amount than what is asked and **why**. However after taking a look at the data dictionary I discovered that the data has already been manipulated: \n",
    "\n",
    ">*\"The listed amount of the loan applied for by the borrower. If at some point in time, the credit department reduces the loan amount, then it will be reflected in this value.\"*\n",
    "\n",
    "Alas, it would have been interesting to see how often Lending Club issues a loan that differs from the requested amount. Doing a quick santiy check below we see there are no instances in the data where the reuqested amount doesn't match the funded."
   ]
  },
  {
   "cell_type": "code",
   "execution_count": 104,
   "metadata": {
    "collapsed": false
   },
   "outputs": [
    {
     "name": "stdout",
     "output_type": "stream",
     "text": [
      "False    235629\n",
      "dtype: int64\n"
     ]
    }
   ],
   "source": [
    "print (df.loan_amnt != df.funded_amnt).value_counts() # Instead of old subset syntax let's use the new `query` method.\n",
    "\n",
    "# df.query('loan_amnt != funded_amnt').ix[:,:5].head(3) # Old way"
   ]
  },
  {
   "cell_type": "markdown",
   "metadata": {},
   "source": [
    "Let's keep moving through the columns"
   ]
  },
  {
   "cell_type": "code",
   "execution_count": 105,
   "metadata": {
    "collapsed": false
   },
   "outputs": [
    {
     "data": {
      "text/html": [
       "<div>\n",
       "<table border=\"1\" class=\"dataframe\">\n",
       "  <thead>\n",
       "    <tr style=\"text-align: right;\">\n",
       "      <th></th>\n",
       "      <th>emp_title</th>\n",
       "      <th>emp_length</th>\n",
       "      <th>home_ownership</th>\n",
       "      <th>annual_inc</th>\n",
       "      <th>verification_status</th>\n",
       "      <th>issue_d</th>\n",
       "      <th>loan_status</th>\n",
       "    </tr>\n",
       "  </thead>\n",
       "  <tbody>\n",
       "    <tr>\n",
       "      <th>0</th>\n",
       "      <td>Truck Driver Delivery Personel</td>\n",
       "      <td>8 years</td>\n",
       "      <td>MORTGAGE</td>\n",
       "      <td>58000</td>\n",
       "      <td>not verified</td>\n",
       "      <td>Dec-2014</td>\n",
       "      <td>Current</td>\n",
       "    </tr>\n",
       "    <tr>\n",
       "      <th>1</th>\n",
       "      <td>MANAGEMENT</td>\n",
       "      <td>10+ years</td>\n",
       "      <td>RENT</td>\n",
       "      <td>78000</td>\n",
       "      <td>VERIFIED - income source</td>\n",
       "      <td>Dec-2014</td>\n",
       "      <td>Current</td>\n",
       "    </tr>\n",
       "    <tr>\n",
       "      <th>2</th>\n",
       "      <td>Technical Specialist</td>\n",
       "      <td>&lt; 1 year</td>\n",
       "      <td>RENT</td>\n",
       "      <td>50000</td>\n",
       "      <td>VERIFIED - income source</td>\n",
       "      <td>Dec-2014</td>\n",
       "      <td>Late (31-120 days)</td>\n",
       "    </tr>\n",
       "    <tr>\n",
       "      <th>3</th>\n",
       "      <td>Senior Sales Professional</td>\n",
       "      <td>10+ years</td>\n",
       "      <td>MORTGAGE</td>\n",
       "      <td>125000</td>\n",
       "      <td>VERIFIED - income</td>\n",
       "      <td>Dec-2014</td>\n",
       "      <td>Current</td>\n",
       "    </tr>\n",
       "    <tr>\n",
       "      <th>4</th>\n",
       "      <td>Admin Specialist</td>\n",
       "      <td>10+ years</td>\n",
       "      <td>RENT</td>\n",
       "      <td>69000</td>\n",
       "      <td>VERIFIED - income source</td>\n",
       "      <td>Dec-2014</td>\n",
       "      <td>Fully Paid</td>\n",
       "    </tr>\n",
       "    <tr>\n",
       "      <th>5</th>\n",
       "      <td>Programming Analysis Supervisor</td>\n",
       "      <td>6 years</td>\n",
       "      <td>RENT</td>\n",
       "      <td>63800</td>\n",
       "      <td>VERIFIED - income source</td>\n",
       "      <td>Dec-2014</td>\n",
       "      <td>Current</td>\n",
       "    </tr>\n",
       "  </tbody>\n",
       "</table>\n",
       "</div>"
      ],
      "text/plain": [
       "                         emp_title emp_length home_ownership  annual_inc  \\\n",
       "0   Truck Driver Delivery Personel    8 years       MORTGAGE       58000   \n",
       "1                       MANAGEMENT  10+ years           RENT       78000   \n",
       "2             Technical Specialist   < 1 year           RENT       50000   \n",
       "3        Senior Sales Professional  10+ years       MORTGAGE      125000   \n",
       "4                 Admin Specialist  10+ years           RENT       69000   \n",
       "5  Programming Analysis Supervisor    6 years           RENT       63800   \n",
       "\n",
       "        verification_status   issue_d         loan_status  \n",
       "0              not verified  Dec-2014             Current  \n",
       "1  VERIFIED - income source  Dec-2014             Current  \n",
       "2  VERIFIED - income source  Dec-2014  Late (31-120 days)  \n",
       "3         VERIFIED - income  Dec-2014             Current  \n",
       "4  VERIFIED - income source  Dec-2014          Fully Paid  \n",
       "5  VERIFIED - income source  Dec-2014             Current  "
      ]
     },
     "execution_count": 105,
     "metadata": {},
     "output_type": "execute_result"
    }
   ],
   "source": [
    "df.ix[:5,8:15]"
   ]
  },
  {
   "cell_type": "markdown",
   "metadata": {},
   "source": [
    "## Employment Title\n",
    "`emp_title` might be a free text field on the application form or a list of currated employment titles. Let's examine how many unique values exist:"
   ]
  },
  {
   "cell_type": "code",
   "execution_count": 106,
   "metadata": {
    "collapsed": false
   },
   "outputs": [
    {
     "name": "stdout",
     "output_type": "stream",
     "text": [
      "Teacher             4569\n",
      "Manager             3772\n",
      "Registered Nurse    1960\n",
      "RN                  1816\n",
      "Supervisor          1663\n",
      "Name: emp_title, dtype: int64\n",
      "Teacher/Media Specialist          1\n",
      "teacher/ After School Director    1\n",
      "bpd/gms coordinator               1\n",
      "heavy equip operator              1\n",
      "Corp. Operations Mangager         1\n",
      "Name: emp_title, dtype: int64\n"
     ]
    },
    {
     "data": {
      "text/plain": [
       "(75353,)"
      ]
     },
     "execution_count": 106,
     "metadata": {},
     "output_type": "execute_result"
    }
   ],
   "source": [
    "print df.emp_title.value_counts().head()\n",
    "print df.emp_title.value_counts().tail()\n",
    "df.emp_title.unique().shape"
   ]
  },
  {
   "cell_type": "markdown",
   "metadata": {},
   "source": [
    "75,353 unique entries among 235,630 observations seems like a bit of a stretch. Taking a look at the head vs tail of the doc shows some suspiciously specific titles such as `bpd/gms coordinator`. I feel comfortable assessing that this data won't be meaningful and any relationship we might observe might be due to confounding relationships. A more advanced implementation might look to group all these job descriptions into categories and/or examine if Lending Club's model looks at (income + job) versus just income, but that's out of the scope of this post.\n",
    "\n",
    "Here we define a confounding variable as a variable that obscures the effects of another variable. If one 1st grade teacher used a phonics textbook in her class and a different teacher used a whole language textbook in his class, and students in the two classes were\n",
    "given achievement tests to see how well they read, the independent variables\n",
    "(teacher effectiveness and textbooks) would be confounded. There is no way to\n",
    "determine if differences in reading between the two classes were caused by\n",
    "either or both of the independent variables.\n",
    "\n",
    "Applying this example to our dataset, Registered Nurses, or RNs, who have higher education requirements and receive above average pay, might be granted A grade loans on average. Is this due to them working as RNs or having a 4-year degree or their salary? Would we see the same effect for Physician Assistants who go to school for longer and receive even more pay? What about Certified Nursing Assistants (CNAs) who are on the oppposite spectrum?"
   ]
  },
  {
   "cell_type": "code",
   "execution_count": 107,
   "metadata": {
    "collapsed": true
   },
   "outputs": [],
   "source": [
    "df.drop(['emp_title'],1, inplace=True)"
   ]
  },
  {
   "cell_type": "markdown",
   "metadata": {},
   "source": [
    "## Employment Length\n",
    "Leaving this variable in might contradict our decision to drop the employment tile as it also conveyed a sort of socio-economic seniority. A Computer Scientist 5 years into their career would generally have a larger salary than a Kindergarden teacher 10 years into their career. Arguably it might be powerful to combine a grouped, matched, and reduced set of employment titles with their length to create a \"purchasing power\" metric. Since employment length is an easy scalar, let's leave it in for now. \n",
    "\n",
    "We could leave 'emp_length' as categorical data, but it shouldn't be treated as such or as ordinal data since the intervals are easy to determine. We can convert it into numerical data with a simple filter:"
   ]
  },
  {
   "cell_type": "code",
   "execution_count": 108,
   "metadata": {
    "collapsed": false,
    "scrolled": true
   },
   "outputs": [
    {
     "data": {
      "text/plain": [
       "10+ years    79505\n",
       "2 years      20487\n",
       "3 years      18267\n",
       "< 1 year     17982\n",
       "1 year       14593\n",
       "4 years      13528\n",
       "7 years      13099\n",
       "5 years      13051\n",
       "n/a          12019\n",
       "8 years      11853\n",
       "6 years      11821\n",
       "9 years       9424\n",
       "Name: emp_length, dtype: int64"
      ]
     },
     "execution_count": 108,
     "metadata": {},
     "output_type": "execute_result"
    }
   ],
   "source": [
    "df.emp_length.value_counts()"
   ]
  },
  {
   "cell_type": "code",
   "execution_count": 109,
   "metadata": {
    "collapsed": false
   },
   "outputs": [],
   "source": [
    "df.replace('n/a', np.nan,inplace=True)\n",
    "df.emp_length.fillna(value=0,inplace=True)\n",
    "df['emp_length'].replace(to_replace='[^0-9]+', value='', inplace=True, regex=True)\n",
    "df['emp_length'] = df['emp_length'].astype(int)"
   ]
  },
  {
   "cell_type": "markdown",
   "metadata": {},
   "source": [
    "## Verification Status\n",
    "The values of `verification_status` aren't immediately clear. As `VERIFIED - income` and `VERIFIED - income source` could potentially be the same criteria. The provided data dictionary file describes the field as such: _\"Indicates if income was verified by LC, not verified, or if the income source was verified\"_ This description does not help as you'd intuitively think that you would have to verify the source in order to verify income. For now we'll trust that these are indeed different methods or levels (perhaps even ordinal) of verification."
   ]
  },
  {
   "cell_type": "code",
   "execution_count": 110,
   "metadata": {
    "collapsed": false
   },
   "outputs": [
    {
     "data": {
      "text/plain": [
       "VERIFIED - income source    97740\n",
       "not verified                70661\n",
       "VERIFIED - income           67228\n",
       "Name: verification_status, dtype: int64"
      ]
     },
     "execution_count": 110,
     "metadata": {},
     "output_type": "execute_result"
    }
   ],
   "source": [
    "df.verification_status.value_counts()"
   ]
  },
  {
   "cell_type": "markdown",
   "metadata": {},
   "source": [
    "## Loan Statuses\n",
    "Moving on to the last column in the slice of the df we are examining: loan status is mutable value that represents the current state of the loan. If anything we might want to examine if all the independent variables and/or interst rate to determine the probability of the loan status at some time. In this post however we are focused on predicting the interest rate granted to an applicant at loan creation. Thus we do not care about this variable and will drop it after examining it out of curiosity.\n",
    "\n",
    "When examining the distribution among the loan statuses, October has the highest amount of loans right ahead of the holiday season. To clean up the space let's replace the column value with a month only and convert the column back to a string or object type. "
   ]
  },
  {
   "cell_type": "code",
   "execution_count": 111,
   "metadata": {
    "collapsed": false
   },
   "outputs": [
    {
     "name": "stdout",
     "output_type": "stream",
     "text": [
      "Current               194161\n",
      "Fully Paid             29346\n",
      "Charged Off             5488\n",
      "Late (31-120 days)      3738\n",
      "In Grace Period         1996\n",
      "Late (16-30 days)        824\n",
      "Default                   76\n",
      "Name: loan_status, dtype: int64\n"
     ]
    },
    {
     "data": {
      "image/png": "[encoded data removed]",
      "text/plain": [
       "<matplotlib.figure.Figure at 0x11145b350>"
      ]
     },
     "metadata": {},
     "output_type": "display_data"
    }
   ],
   "source": [
    "print df.loan_status.value_counts()\n",
    "\n",
    "issue_d_todate = pd.to_datetime(df.issue_d)# (df['issue_d'].apply(lambda x: x.strftime('%Y-%m-%d')))\n",
    "df.issue_d = pd.Series(df.issue_d).str.replace('-2014', '')\n",
    "# We need sort_index() or else we won't get a sequential timedate order.\n",
    "issue_d_todate.value_counts().sort_index().plot(kind='bar')\n",
    "\n",
    "df.drop(['loan_status'],1, inplace=True)"
   ]
  },
  {
   "cell_type": "markdown",
   "metadata": {},
   "source": [
    "## Arbitrary Applicant Input\n",
    "Continuing on to examine more columns:"
   ]
  },
  {
   "cell_type": "code",
   "execution_count": 112,
   "metadata": {
    "collapsed": false
   },
   "outputs": [
    {
     "data": {
      "text/html": [
       "<div>\n",
       "<table border=\"1\" class=\"dataframe\">\n",
       "  <thead>\n",
       "    <tr style=\"text-align: right;\">\n",
       "      <th></th>\n",
       "      <th>issue_d</th>\n",
       "      <th>pymnt_plan</th>\n",
       "      <th>url</th>\n",
       "      <th>desc</th>\n",
       "      <th>purpose</th>\n",
       "      <th>title</th>\n",
       "      <th>zip_code</th>\n",
       "      <th>addr_state</th>\n",
       "      <th>dti</th>\n",
       "    </tr>\n",
       "  </thead>\n",
       "  <tbody>\n",
       "    <tr>\n",
       "      <th>0</th>\n",
       "      <td>Dec</td>\n",
       "      <td>n</td>\n",
       "      <td>https://www.lendingclub.com/browse/loanDetail....</td>\n",
       "      <td>NaN</td>\n",
       "      <td>credit_card</td>\n",
       "      <td>Credit card refinancing</td>\n",
       "      <td>937xx</td>\n",
       "      <td>CA</td>\n",
       "      <td>14.92</td>\n",
       "    </tr>\n",
       "    <tr>\n",
       "      <th>1</th>\n",
       "      <td>Dec</td>\n",
       "      <td>n</td>\n",
       "      <td>https://www.lendingclub.com/browse/loanDetail....</td>\n",
       "      <td>NaN</td>\n",
       "      <td>debt_consolidation</td>\n",
       "      <td>Debt consolidation</td>\n",
       "      <td>235xx</td>\n",
       "      <td>VA</td>\n",
       "      <td>12.03</td>\n",
       "    </tr>\n",
       "    <tr>\n",
       "      <th>2</th>\n",
       "      <td>Dec</td>\n",
       "      <td>n</td>\n",
       "      <td>https://www.lendingclub.com/browse/loanDetail....</td>\n",
       "      <td>NaN</td>\n",
       "      <td>debt_consolidation</td>\n",
       "      <td>Debt consolidation</td>\n",
       "      <td>850xx</td>\n",
       "      <td>AZ</td>\n",
       "      <td>34.81</td>\n",
       "    </tr>\n",
       "    <tr>\n",
       "      <th>3</th>\n",
       "      <td>Dec</td>\n",
       "      <td>n</td>\n",
       "      <td>https://www.lendingclub.com/browse/loanDetail....</td>\n",
       "      <td>NaN</td>\n",
       "      <td>car</td>\n",
       "      <td>Car financing</td>\n",
       "      <td>953xx</td>\n",
       "      <td>CA</td>\n",
       "      <td>8.31</td>\n",
       "    </tr>\n",
       "    <tr>\n",
       "      <th>4</th>\n",
       "      <td>Dec</td>\n",
       "      <td>n</td>\n",
       "      <td>https://www.lendingclub.com/browse/loanDetail....</td>\n",
       "      <td>NaN</td>\n",
       "      <td>debt_consolidation</td>\n",
       "      <td>Debt consolidation</td>\n",
       "      <td>077xx</td>\n",
       "      <td>NJ</td>\n",
       "      <td>25.81</td>\n",
       "    </tr>\n",
       "    <tr>\n",
       "      <th>5</th>\n",
       "      <td>Dec</td>\n",
       "      <td>n</td>\n",
       "      <td>https://www.lendingclub.com/browse/loanDetail....</td>\n",
       "      <td>NaN</td>\n",
       "      <td>credit_card</td>\n",
       "      <td>Credit card refinancing</td>\n",
       "      <td>658xx</td>\n",
       "      <td>MO</td>\n",
       "      <td>18.49</td>\n",
       "    </tr>\n",
       "  </tbody>\n",
       "</table>\n",
       "</div>"
      ],
      "text/plain": [
       "  issue_d pymnt_plan                                                url desc  \\\n",
       "0     Dec          n  https://www.lendingclub.com/browse/loanDetail....  NaN   \n",
       "1     Dec          n  https://www.lendingclub.com/browse/loanDetail....  NaN   \n",
       "2     Dec          n  https://www.lendingclub.com/browse/loanDetail....  NaN   \n",
       "3     Dec          n  https://www.lendingclub.com/browse/loanDetail....  NaN   \n",
       "4     Dec          n  https://www.lendingclub.com/browse/loanDetail....  NaN   \n",
       "5     Dec          n  https://www.lendingclub.com/browse/loanDetail....  NaN   \n",
       "\n",
       "              purpose                    title zip_code addr_state    dti  \n",
       "0         credit_card  Credit card refinancing    937xx         CA  14.92  \n",
       "1  debt_consolidation       Debt consolidation    235xx         VA  12.03  \n",
       "2  debt_consolidation       Debt consolidation    850xx         AZ  34.81  \n",
       "3                 car            Car financing    953xx         CA   8.31  \n",
       "4  debt_consolidation       Debt consolidation    077xx         NJ  25.81  \n",
       "5         credit_card  Credit card refinancing    658xx         MO  18.49  "
      ]
     },
     "execution_count": 112,
     "metadata": {},
     "output_type": "execute_result"
    }
   ],
   "source": [
    "df.ix[:5,12:21]"
   ]
  },
  {
   "cell_type": "code",
   "execution_count": 113,
   "metadata": {
    "collapsed": false
   },
   "outputs": [
    {
     "name": "stdout",
     "output_type": "stream",
     "text": [
      "debt_consolidation    143006\n",
      "credit_card            55522\n",
      "home_improvement       13045\n",
      "other                  10371\n",
      "major_purchase          3858\n",
      "medical                 2331\n",
      "small_business          2277\n",
      "car                     1832\n",
      "moving                  1328\n",
      "vacation                1178\n",
      "house                    750\n",
      "renewable_energy         123\n",
      "wedding                    8\n",
      "Name: purpose, dtype: int64\n",
      "\n",
      "consolodate                       1\n",
      "Chase debt                        1\n",
      "pay off credit cards and loans    1\n",
      "Business Consolidation Loan       1\n",
      "Bills Bills Bills                 1\n",
      "Name: title, dtype: int64\n"
     ]
    }
   ],
   "source": [
    "print df.purpose.value_counts()\n",
    "print ''\n",
    "print df.title.value_counts().tail()"
   ]
  },
  {
   "cell_type": "markdown",
   "metadata": {},
   "source": [
    "We'll be dropping `pymnt_plan` as it has the same current state info that `loan_status` had above. It indicates that the loan is in jeopardy and that the borrower has been placed on a payment plan.\n",
    "\n",
    "Examining the unique counts of purpose show that they are lending club selected options;howver, `title` and `desc` are arbitrary free-text from the applicant."
   ]
  },
  {
   "cell_type": "code",
   "execution_count": 114,
   "metadata": {
    "collapsed": false
   },
   "outputs": [],
   "source": [
    "df.drop(['pymnt_plan','url','desc','title' ],1, inplace=True)"
   ]
  },
  {
   "cell_type": "markdown",
   "metadata": {},
   "source": [
    "Moving on to examine the next slice of columns:"
   ]
  },
  {
   "cell_type": "code",
   "execution_count": 115,
   "metadata": {
    "collapsed": false
   },
   "outputs": [
    {
     "data": {
      "text/html": [
       "<div>\n",
       "<table border=\"1\" class=\"dataframe\">\n",
       "  <thead>\n",
       "    <tr style=\"text-align: right;\">\n",
       "      <th></th>\n",
       "      <th>delinq_2yrs</th>\n",
       "      <th>earliest_cr_line</th>\n",
       "      <th>fico_range_low</th>\n",
       "      <th>fico_range_high</th>\n",
       "      <th>inq_last_6mths</th>\n",
       "      <th>mths_since_last_delinq</th>\n",
       "      <th>mths_since_last_record</th>\n",
       "      <th>open_acc</th>\n",
       "    </tr>\n",
       "  </thead>\n",
       "  <tbody>\n",
       "    <tr>\n",
       "      <th>0</th>\n",
       "      <td>0</td>\n",
       "      <td>Sep-1989</td>\n",
       "      <td>710</td>\n",
       "      <td>714</td>\n",
       "      <td>2</td>\n",
       "      <td>42</td>\n",
       "      <td>NaN</td>\n",
       "      <td>17</td>\n",
       "    </tr>\n",
       "    <tr>\n",
       "      <th>1</th>\n",
       "      <td>0</td>\n",
       "      <td>Aug-1994</td>\n",
       "      <td>750</td>\n",
       "      <td>754</td>\n",
       "      <td>0</td>\n",
       "      <td>NaN</td>\n",
       "      <td>NaN</td>\n",
       "      <td>6</td>\n",
       "    </tr>\n",
       "    <tr>\n",
       "      <th>2</th>\n",
       "      <td>0</td>\n",
       "      <td>Aug-2002</td>\n",
       "      <td>685</td>\n",
       "      <td>689</td>\n",
       "      <td>1</td>\n",
       "      <td>NaN</td>\n",
       "      <td>NaN</td>\n",
       "      <td>11</td>\n",
       "    </tr>\n",
       "    <tr>\n",
       "      <th>3</th>\n",
       "      <td>1</td>\n",
       "      <td>Oct-2000</td>\n",
       "      <td>665</td>\n",
       "      <td>669</td>\n",
       "      <td>0</td>\n",
       "      <td>17</td>\n",
       "      <td>NaN</td>\n",
       "      <td>8</td>\n",
       "    </tr>\n",
       "    <tr>\n",
       "      <th>4</th>\n",
       "      <td>0</td>\n",
       "      <td>Nov-1992</td>\n",
       "      <td>680</td>\n",
       "      <td>684</td>\n",
       "      <td>0</td>\n",
       "      <td>NaN</td>\n",
       "      <td>NaN</td>\n",
       "      <td>12</td>\n",
       "    </tr>\n",
       "    <tr>\n",
       "      <th>5</th>\n",
       "      <td>0</td>\n",
       "      <td>Aug-2003</td>\n",
       "      <td>685</td>\n",
       "      <td>689</td>\n",
       "      <td>0</td>\n",
       "      <td>60</td>\n",
       "      <td>NaN</td>\n",
       "      <td>10</td>\n",
       "    </tr>\n",
       "  </tbody>\n",
       "</table>\n",
       "</div>"
      ],
      "text/plain": [
       "   delinq_2yrs earliest_cr_line  fico_range_low  fico_range_high  \\\n",
       "0            0         Sep-1989             710              714   \n",
       "1            0         Aug-1994             750              754   \n",
       "2            0         Aug-2002             685              689   \n",
       "3            1         Oct-2000             665              669   \n",
       "4            0         Nov-1992             680              684   \n",
       "5            0         Aug-2003             685              689   \n",
       "\n",
       "   inq_last_6mths  mths_since_last_delinq  mths_since_last_record  open_acc  \n",
       "0               2                      42                     NaN        17  \n",
       "1               0                     NaN                     NaN         6  \n",
       "2               1                     NaN                     NaN        11  \n",
       "3               0                      17                     NaN         8  \n",
       "4               0                     NaN                     NaN        12  \n",
       "5               0                      60                     NaN        10  "
      ]
     },
     "execution_count": 115,
     "metadata": {},
     "output_type": "execute_result"
    }
   ],
   "source": [
    "df.ix[:5,17:25]"
   ]
  },
  {
   "cell_type": "markdown",
   "metadata": {},
   "source": [
    "## Delinquency \n",
    "Lets examine the distribution of delinquency across all applicants:"
   ]
  },
  {
   "cell_type": "code",
   "execution_count": 116,
   "metadata": {
    "collapsed": false
   },
   "outputs": [
    {
     "data": {
      "text/plain": [
       "0     186781\n",
       "1      31859\n",
       "2       9831\n",
       "3       3654\n",
       "4       1606\n",
       "5        849\n",
       "6        426\n",
       "7        254\n",
       "8        130\n",
       "9         84\n",
       "10        47\n",
       "12        30\n",
       "11        28\n",
       "13        21\n",
       "14         7\n",
       "15         5\n",
       "16         5\n",
       "18         3\n",
       "19         3\n",
       "21         2\n",
       "17         2\n",
       "22         2\n",
       "Name: delinq_2yrs, dtype: int64"
      ]
     },
     "execution_count": 116,
     "metadata": {},
     "output_type": "execute_result"
    }
   ],
   "source": [
    "df.delinq_2yrs.value_counts()"
   ]
  },
  {
   "cell_type": "markdown",
   "metadata": {},
   "source": [
    "## Earliest Credit Line\n",
    "`earliest_cr_line` is currently an object dtype however we don't want to convert it to a date, rather a scalar to describe the length of time since the first line of credit. We are asserting that if all variables are held equal (number of lines open, income, delinquencies, verfied income); the longer you've had lines of credit the better. \n",
    "\n",
    "Conversely an acturary might asses that we can end up with a \"u-shaped\" distribution in that if you are the extreme end of years, you are a higher risk as you have a higher chance of mortality thus a lower probability of repayment. Additionally pre-retirement debitors are more likely to list job or health reasons as the primary cause of their bankruptcy. \n",
    "\n",
    "In a more advanced implementation we'd want to account for confounding variables in that certain applicant groups, the older you are (time since first credit line) the larger your earning potential/power and thus the better loan you might secure, however this increase in salary might be negligible if the amount of discretionary money spent or need for a loan scales in some proportion to the salary size."
   ]
  },
  {
   "cell_type": "code",
   "execution_count": 117,
   "metadata": {
    "collapsed": false
   },
   "outputs": [
    {
     "data": {
      "text/plain": [
       "0         26\n",
       "1         21\n",
       "2         13\n",
       "3         15\n",
       "4         23\n",
       "5         12\n",
       "6         16\n",
       "7         17\n",
       "8         14\n",
       "9         12\n",
       "10        14\n",
       "11         6\n",
       "12        28\n",
       "13        12\n",
       "14        20\n",
       "15        21\n",
       "16        19\n",
       "17        26\n",
       "18        14\n",
       "19        17\n",
       "20         9\n",
       "21        13\n",
       "22        14\n",
       "23         8\n",
       "24         5\n",
       "25        10\n",
       "26        13\n",
       "27        13\n",
       "28         8\n",
       "29        21\n",
       "          ..\n",
       "235599    15\n",
       "235600    14\n",
       "235601    30\n",
       "235602    22\n",
       "235603    30\n",
       "235604    18\n",
       "235605    18\n",
       "235606    22\n",
       "235607    12\n",
       "235608    17\n",
       "235609    22\n",
       "235610    21\n",
       "235611    13\n",
       "235612    13\n",
       "235613    29\n",
       "235614    15\n",
       "235615    21\n",
       "235616    25\n",
       "235617    14\n",
       "235618    32\n",
       "235619    21\n",
       "235620    22\n",
       "235621    17\n",
       "235622    13\n",
       "235623    16\n",
       "235624    12\n",
       "235625    18\n",
       "235626    12\n",
       "235627    13\n",
       "235628    15\n",
       "Name: earliest_cr_line, dtype: int64"
      ]
     },
     "execution_count": 117,
     "metadata": {},
     "output_type": "execute_result"
    }
   ],
   "source": [
    "from datetime import datetime\n",
    "\n",
    "df.earliest_cr_line = pd.to_datetime(df.earliest_cr_line)\n",
    "\n",
    "dttoday = datetime.now().strftime('%Y-%m-%d')\n",
    "# There is a better way to do this :) \n",
    "df.earliest_cr_line = df.earliest_cr_line.apply(lambda x: (\n",
    "        np.timedelta64((x - pd.Timestamp(dttoday)),'D').astype(int))/-365)\n",
    "\n",
    "df.earliest_cr_line"
   ]
  },
  {
   "cell_type": "markdown",
   "metadata": {},
   "source": [
    "## FICO Ranges\n",
    "The FICO `fico_range_low` & `fico_range_high` scores on their own aren't as useful as a range and average. So let's create that. `initial_list_status` is unclear if it describes a post or pre determined interest period. "
   ]
  },
  {
   "cell_type": "code",
   "execution_count": 118,
   "metadata": {
    "collapsed": false
   },
   "outputs": [],
   "source": [
    "df['fico_range'] = df.fico_range_low.astype('str') + '-' + df.fico_range_high.astype('str')\n",
    "df['meanfico'] = (df.fico_range_low + df.fico_range_high)/2\n",
    "df.drop(['fico_range_low','fico_range_high','initial_list_status'],1, inplace=True)"
   ]
  },
  {
   "cell_type": "markdown",
   "metadata": {},
   "source": [
    "Moving on to the next set of columns"
   ]
  },
  {
   "cell_type": "code",
   "execution_count": 119,
   "metadata": {
    "collapsed": false
   },
   "outputs": [
    {
     "data": {
      "text/html": [
       "<div>\n",
       "<table border=\"1\" class=\"dataframe\">\n",
       "  <thead>\n",
       "    <tr style=\"text-align: right;\">\n",
       "      <th></th>\n",
       "      <th>pub_rec</th>\n",
       "      <th>revol_bal</th>\n",
       "      <th>revol_util</th>\n",
       "      <th>total_acc</th>\n",
       "      <th>out_prncp</th>\n",
       "      <th>out_prncp_inv</th>\n",
       "      <th>total_pymnt</th>\n",
       "      <th>total_pymnt_inv</th>\n",
       "      <th>total_rec_prncp</th>\n",
       "    </tr>\n",
       "  </thead>\n",
       "  <tbody>\n",
       "    <tr>\n",
       "      <th>0</th>\n",
       "      <td>0</td>\n",
       "      <td>6133</td>\n",
       "      <td>31.6%</td>\n",
       "      <td>36</td>\n",
       "      <td>9082.24</td>\n",
       "      <td>9082.24</td>\n",
       "      <td>1595.30</td>\n",
       "      <td>1595.30</td>\n",
       "      <td>1317.76</td>\n",
       "    </tr>\n",
       "    <tr>\n",
       "      <th>1</th>\n",
       "      <td>0</td>\n",
       "      <td>138008</td>\n",
       "      <td>29%</td>\n",
       "      <td>17</td>\n",
       "      <td>14072.21</td>\n",
       "      <td>14072.21</td>\n",
       "      <td>1657.39</td>\n",
       "      <td>1657.39</td>\n",
       "      <td>927.79</td>\n",
       "    </tr>\n",
       "    <tr>\n",
       "      <th>2</th>\n",
       "      <td>0</td>\n",
       "      <td>16822</td>\n",
       "      <td>91.9%</td>\n",
       "      <td>20</td>\n",
       "      <td>6945.62</td>\n",
       "      <td>6945.62</td>\n",
       "      <td>1026.29</td>\n",
       "      <td>1026.29</td>\n",
       "      <td>704.38</td>\n",
       "    </tr>\n",
       "    <tr>\n",
       "      <th>3</th>\n",
       "      <td>0</td>\n",
       "      <td>5753</td>\n",
       "      <td>100.9%</td>\n",
       "      <td>13</td>\n",
       "      <td>12098.99</td>\n",
       "      <td>12098.99</td>\n",
       "      <td>1564.93</td>\n",
       "      <td>1564.93</td>\n",
       "      <td>701.01</td>\n",
       "    </tr>\n",
       "    <tr>\n",
       "      <th>4</th>\n",
       "      <td>0</td>\n",
       "      <td>16388</td>\n",
       "      <td>59.4%</td>\n",
       "      <td>44</td>\n",
       "      <td>0.00</td>\n",
       "      <td>0.00</td>\n",
       "      <td>9973.43</td>\n",
       "      <td>9973.43</td>\n",
       "      <td>9600.00</td>\n",
       "    </tr>\n",
       "    <tr>\n",
       "      <th>5</th>\n",
       "      <td>0</td>\n",
       "      <td>16374</td>\n",
       "      <td>76.2%</td>\n",
       "      <td>35</td>\n",
       "      <td>20203.61</td>\n",
       "      <td>20203.61</td>\n",
       "      <td>2535.41</td>\n",
       "      <td>2535.41</td>\n",
       "      <td>1221.39</td>\n",
       "    </tr>\n",
       "  </tbody>\n",
       "</table>\n",
       "</div>"
      ],
      "text/plain": [
       "   pub_rec  revol_bal revol_util  total_acc  out_prncp  out_prncp_inv  \\\n",
       "0        0       6133      31.6%         36    9082.24        9082.24   \n",
       "1        0     138008        29%         17   14072.21       14072.21   \n",
       "2        0      16822      91.9%         20    6945.62        6945.62   \n",
       "3        0       5753     100.9%         13   12098.99       12098.99   \n",
       "4        0      16388      59.4%         44       0.00           0.00   \n",
       "5        0      16374      76.2%         35   20203.61       20203.61   \n",
       "\n",
       "   total_pymnt  total_pymnt_inv  total_rec_prncp  \n",
       "0      1595.30          1595.30          1317.76  \n",
       "1      1657.39          1657.39           927.79  \n",
       "2      1026.29          1026.29           704.38  \n",
       "3      1564.93          1564.93           701.01  \n",
       "4      9973.43          9973.43          9600.00  \n",
       "5      2535.41          2535.41          1221.39  "
      ]
     },
     "execution_count": 119,
     "metadata": {},
     "output_type": "execute_result"
    }
   ],
   "source": [
    "df.ix[:5,23:32]"
   ]
  },
  {
   "cell_type": "markdown",
   "metadata": {},
   "source": [
    "## Revolving Utility\n",
    "Let's do the same thing we did for the interest rate column"
   ]
  },
  {
   "cell_type": "code",
   "execution_count": 120,
   "metadata": {
    "collapsed": true
   },
   "outputs": [],
   "source": [
    "df.revol_util = pd.Series(df.revol_util).str.replace('%', '').astype(float)"
   ]
  },
  {
   "cell_type": "code",
   "execution_count": 121,
   "metadata": {
    "collapsed": false
   },
   "outputs": [
    {
     "data": {
      "text/html": [
       "<div>\n",
       "<table border=\"1\" class=\"dataframe\">\n",
       "  <thead>\n",
       "    <tr style=\"text-align: right;\">\n",
       "      <th></th>\n",
       "      <th>pub_rec</th>\n",
       "      <th>revol_bal</th>\n",
       "      <th>revol_util</th>\n",
       "      <th>total_acc</th>\n",
       "      <th>out_prncp</th>\n",
       "      <th>out_prncp_inv</th>\n",
       "      <th>total_pymnt</th>\n",
       "      <th>total_pymnt_inv</th>\n",
       "      <th>total_rec_prncp</th>\n",
       "    </tr>\n",
       "  </thead>\n",
       "  <tbody>\n",
       "    <tr>\n",
       "      <th>0</th>\n",
       "      <td>0</td>\n",
       "      <td>6133</td>\n",
       "      <td>31.6</td>\n",
       "      <td>36</td>\n",
       "      <td>9082.24</td>\n",
       "      <td>9082.24</td>\n",
       "      <td>1595.30</td>\n",
       "      <td>1595.30</td>\n",
       "      <td>1317.76</td>\n",
       "    </tr>\n",
       "    <tr>\n",
       "      <th>1</th>\n",
       "      <td>0</td>\n",
       "      <td>138008</td>\n",
       "      <td>29.0</td>\n",
       "      <td>17</td>\n",
       "      <td>14072.21</td>\n",
       "      <td>14072.21</td>\n",
       "      <td>1657.39</td>\n",
       "      <td>1657.39</td>\n",
       "      <td>927.79</td>\n",
       "    </tr>\n",
       "    <tr>\n",
       "      <th>2</th>\n",
       "      <td>0</td>\n",
       "      <td>16822</td>\n",
       "      <td>91.9</td>\n",
       "      <td>20</td>\n",
       "      <td>6945.62</td>\n",
       "      <td>6945.62</td>\n",
       "      <td>1026.29</td>\n",
       "      <td>1026.29</td>\n",
       "      <td>704.38</td>\n",
       "    </tr>\n",
       "    <tr>\n",
       "      <th>3</th>\n",
       "      <td>0</td>\n",
       "      <td>5753</td>\n",
       "      <td>100.9</td>\n",
       "      <td>13</td>\n",
       "      <td>12098.99</td>\n",
       "      <td>12098.99</td>\n",
       "      <td>1564.93</td>\n",
       "      <td>1564.93</td>\n",
       "      <td>701.01</td>\n",
       "    </tr>\n",
       "    <tr>\n",
       "      <th>4</th>\n",
       "      <td>0</td>\n",
       "      <td>16388</td>\n",
       "      <td>59.4</td>\n",
       "      <td>44</td>\n",
       "      <td>0.00</td>\n",
       "      <td>0.00</td>\n",
       "      <td>9973.43</td>\n",
       "      <td>9973.43</td>\n",
       "      <td>9600.00</td>\n",
       "    </tr>\n",
       "    <tr>\n",
       "      <th>5</th>\n",
       "      <td>0</td>\n",
       "      <td>16374</td>\n",
       "      <td>76.2</td>\n",
       "      <td>35</td>\n",
       "      <td>20203.61</td>\n",
       "      <td>20203.61</td>\n",
       "      <td>2535.41</td>\n",
       "      <td>2535.41</td>\n",
       "      <td>1221.39</td>\n",
       "    </tr>\n",
       "  </tbody>\n",
       "</table>\n",
       "</div>"
      ],
      "text/plain": [
       "   pub_rec  revol_bal  revol_util  total_acc  out_prncp  out_prncp_inv  \\\n",
       "0        0       6133        31.6         36    9082.24        9082.24   \n",
       "1        0     138008        29.0         17   14072.21       14072.21   \n",
       "2        0      16822        91.9         20    6945.62        6945.62   \n",
       "3        0       5753       100.9         13   12098.99       12098.99   \n",
       "4        0      16388        59.4         44       0.00           0.00   \n",
       "5        0      16374        76.2         35   20203.61       20203.61   \n",
       "\n",
       "   total_pymnt  total_pymnt_inv  total_rec_prncp  \n",
       "0      1595.30          1595.30          1317.76  \n",
       "1      1657.39          1657.39           927.79  \n",
       "2      1026.29          1026.29           704.38  \n",
       "3      1564.93          1564.93           701.01  \n",
       "4      9973.43          9973.43          9600.00  \n",
       "5      2535.41          2535.41          1221.39  "
      ]
     },
     "execution_count": 121,
     "metadata": {},
     "output_type": "execute_result"
    }
   ],
   "source": [
    "df.ix[:5,23:32]"
   ]
  },
  {
   "cell_type": "markdown",
   "metadata": {},
   "source": [
    "## More Post Loan Attributes\n",
    "Similar to some attributes we encountered above, we have more columns to drop that detail attributes about the loan after it was granted, which we don't care about."
   ]
  },
  {
   "cell_type": "code",
   "execution_count": 122,
   "metadata": {
    "collapsed": false
   },
   "outputs": [],
   "source": [
    "df.drop(['out_prncp','out_prncp_inv','total_pymnt',\n",
    "         'total_pymnt_inv','total_rec_prncp', 'grade', 'sub_grade'] ,1, inplace=True)"
   ]
  },
  {
   "cell_type": "code",
   "execution_count": 123,
   "metadata": {
    "collapsed": false
   },
   "outputs": [
    {
     "data": {
      "text/html": [
       "<div>\n",
       "<table border=\"1\" class=\"dataframe\">\n",
       "  <thead>\n",
       "    <tr style=\"text-align: right;\">\n",
       "      <th></th>\n",
       "      <th>revol_util</th>\n",
       "      <th>total_acc</th>\n",
       "      <th>total_rec_int</th>\n",
       "      <th>total_rec_late_fee</th>\n",
       "      <th>recoveries</th>\n",
       "      <th>collection_recovery_fee</th>\n",
       "      <th>last_pymnt_d</th>\n",
       "      <th>last_pymnt_amnt</th>\n",
       "      <th>next_pymnt_d</th>\n",
       "    </tr>\n",
       "  </thead>\n",
       "  <tbody>\n",
       "    <tr>\n",
       "      <th>0</th>\n",
       "      <td>31.6</td>\n",
       "      <td>36</td>\n",
       "      <td>277.54</td>\n",
       "      <td>0</td>\n",
       "      <td>0</td>\n",
       "      <td>0</td>\n",
       "      <td>Jun-2015</td>\n",
       "      <td>321.08</td>\n",
       "      <td>Jul-2015</td>\n",
       "    </tr>\n",
       "    <tr>\n",
       "      <th>1</th>\n",
       "      <td>29.0</td>\n",
       "      <td>17</td>\n",
       "      <td>729.60</td>\n",
       "      <td>0</td>\n",
       "      <td>0</td>\n",
       "      <td>0</td>\n",
       "      <td>Jun-2015</td>\n",
       "      <td>336.64</td>\n",
       "      <td>Jul-2015</td>\n",
       "    </tr>\n",
       "    <tr>\n",
       "      <th>2</th>\n",
       "      <td>91.9</td>\n",
       "      <td>20</td>\n",
       "      <td>321.91</td>\n",
       "      <td>0</td>\n",
       "      <td>0</td>\n",
       "      <td>0</td>\n",
       "      <td>May-2015</td>\n",
       "      <td>260.20</td>\n",
       "      <td>Jul-2015</td>\n",
       "    </tr>\n",
       "    <tr>\n",
       "      <th>3</th>\n",
       "      <td>100.9</td>\n",
       "      <td>13</td>\n",
       "      <td>863.92</td>\n",
       "      <td>0</td>\n",
       "      <td>0</td>\n",
       "      <td>0</td>\n",
       "      <td>Jun-2015</td>\n",
       "      <td>319.08</td>\n",
       "      <td>Jul-2015</td>\n",
       "    </tr>\n",
       "    <tr>\n",
       "      <th>4</th>\n",
       "      <td>59.4</td>\n",
       "      <td>44</td>\n",
       "      <td>373.43</td>\n",
       "      <td>0</td>\n",
       "      <td>0</td>\n",
       "      <td>0</td>\n",
       "      <td>Apr-2015</td>\n",
       "      <td>9338.58</td>\n",
       "      <td>NaN</td>\n",
       "    </tr>\n",
       "    <tr>\n",
       "      <th>5</th>\n",
       "      <td>76.2</td>\n",
       "      <td>35</td>\n",
       "      <td>1314.02</td>\n",
       "      <td>0</td>\n",
       "      <td>0</td>\n",
       "      <td>0</td>\n",
       "      <td>Jun-2015</td>\n",
       "      <td>516.36</td>\n",
       "      <td>Jul-2015</td>\n",
       "    </tr>\n",
       "  </tbody>\n",
       "</table>\n",
       "</div>"
      ],
      "text/plain": [
       "   revol_util  total_acc  total_rec_int  total_rec_late_fee  recoveries  \\\n",
       "0        31.6         36         277.54                   0           0   \n",
       "1        29.0         17         729.60                   0           0   \n",
       "2        91.9         20         321.91                   0           0   \n",
       "3       100.9         13         863.92                   0           0   \n",
       "4        59.4         44         373.43                   0           0   \n",
       "5        76.2         35        1314.02                   0           0   \n",
       "\n",
       "   collection_recovery_fee last_pymnt_d  last_pymnt_amnt next_pymnt_d  \n",
       "0                        0     Jun-2015           321.08     Jul-2015  \n",
       "1                        0     Jun-2015           336.64     Jul-2015  \n",
       "2                        0     May-2015           260.20     Jul-2015  \n",
       "3                        0     Jun-2015           319.08     Jul-2015  \n",
       "4                        0     Apr-2015          9338.58          NaN  \n",
       "5                        0     Jun-2015           516.36     Jul-2015  "
      ]
     },
     "execution_count": 123,
     "metadata": {},
     "output_type": "execute_result"
    }
   ],
   "source": [
    "df.ix[:5,23:32]"
   ]
  },
  {
   "cell_type": "code",
   "execution_count": 124,
   "metadata": {
    "collapsed": true
   },
   "outputs": [],
   "source": [
    "df.drop(['total_rec_int','total_rec_late_fee',\n",
    "         'recoveries','collection_recovery_fee',\n",
    "         'collection_recovery_fee' ],1, inplace=True)"
   ]
  },
  {
   "cell_type": "code",
   "execution_count": 125,
   "metadata": {
    "collapsed": false
   },
   "outputs": [
    {
     "data": {
      "text/html": [
       "<div>\n",
       "<table border=\"1\" class=\"dataframe\">\n",
       "  <thead>\n",
       "    <tr style=\"text-align: right;\">\n",
       "      <th></th>\n",
       "      <th>revol_util</th>\n",
       "      <th>total_acc</th>\n",
       "      <th>last_pymnt_d</th>\n",
       "      <th>last_pymnt_amnt</th>\n",
       "      <th>next_pymnt_d</th>\n",
       "      <th>last_credit_pull_d</th>\n",
       "      <th>last_fico_range_high</th>\n",
       "      <th>last_fico_range_low</th>\n",
       "      <th>collections_12_mths_ex_med</th>\n",
       "    </tr>\n",
       "  </thead>\n",
       "  <tbody>\n",
       "    <tr>\n",
       "      <th>0</th>\n",
       "      <td>31.6</td>\n",
       "      <td>36</td>\n",
       "      <td>Jun-2015</td>\n",
       "      <td>321.08</td>\n",
       "      <td>Jul-2015</td>\n",
       "      <td>Jun-2015</td>\n",
       "      <td>679</td>\n",
       "      <td>675</td>\n",
       "      <td>0</td>\n",
       "    </tr>\n",
       "    <tr>\n",
       "      <th>1</th>\n",
       "      <td>29.0</td>\n",
       "      <td>17</td>\n",
       "      <td>Jun-2015</td>\n",
       "      <td>336.64</td>\n",
       "      <td>Jul-2015</td>\n",
       "      <td>Jun-2015</td>\n",
       "      <td>684</td>\n",
       "      <td>680</td>\n",
       "      <td>0</td>\n",
       "    </tr>\n",
       "    <tr>\n",
       "      <th>2</th>\n",
       "      <td>91.9</td>\n",
       "      <td>20</td>\n",
       "      <td>May-2015</td>\n",
       "      <td>260.20</td>\n",
       "      <td>Jul-2015</td>\n",
       "      <td>Jun-2015</td>\n",
       "      <td>689</td>\n",
       "      <td>685</td>\n",
       "      <td>0</td>\n",
       "    </tr>\n",
       "    <tr>\n",
       "      <th>3</th>\n",
       "      <td>100.9</td>\n",
       "      <td>13</td>\n",
       "      <td>Jun-2015</td>\n",
       "      <td>319.08</td>\n",
       "      <td>Jul-2015</td>\n",
       "      <td>Jun-2015</td>\n",
       "      <td>684</td>\n",
       "      <td>680</td>\n",
       "      <td>0</td>\n",
       "    </tr>\n",
       "    <tr>\n",
       "      <th>4</th>\n",
       "      <td>59.4</td>\n",
       "      <td>44</td>\n",
       "      <td>Apr-2015</td>\n",
       "      <td>9338.58</td>\n",
       "      <td>NaN</td>\n",
       "      <td>Apr-2015</td>\n",
       "      <td>679</td>\n",
       "      <td>675</td>\n",
       "      <td>0</td>\n",
       "    </tr>\n",
       "    <tr>\n",
       "      <th>5</th>\n",
       "      <td>76.2</td>\n",
       "      <td>35</td>\n",
       "      <td>Jun-2015</td>\n",
       "      <td>516.36</td>\n",
       "      <td>Jul-2015</td>\n",
       "      <td>Jun-2015</td>\n",
       "      <td>689</td>\n",
       "      <td>685</td>\n",
       "      <td>0</td>\n",
       "    </tr>\n",
       "  </tbody>\n",
       "</table>\n",
       "</div>"
      ],
      "text/plain": [
       "   revol_util  total_acc last_pymnt_d  last_pymnt_amnt next_pymnt_d  \\\n",
       "0        31.6         36     Jun-2015           321.08     Jul-2015   \n",
       "1        29.0         17     Jun-2015           336.64     Jul-2015   \n",
       "2        91.9         20     May-2015           260.20     Jul-2015   \n",
       "3       100.9         13     Jun-2015           319.08     Jul-2015   \n",
       "4        59.4         44     Apr-2015          9338.58          NaN   \n",
       "5        76.2         35     Jun-2015           516.36     Jul-2015   \n",
       "\n",
       "  last_credit_pull_d  last_fico_range_high  last_fico_range_low  \\\n",
       "0           Jun-2015                   679                  675   \n",
       "1           Jun-2015                   684                  680   \n",
       "2           Jun-2015                   689                  685   \n",
       "3           Jun-2015                   684                  680   \n",
       "4           Apr-2015                   679                  675   \n",
       "5           Jun-2015                   689                  685   \n",
       "\n",
       "   collections_12_mths_ex_med  \n",
       "0                           0  \n",
       "1                           0  \n",
       "2                           0  \n",
       "3                           0  \n",
       "4                           0  \n",
       "5                           0  "
      ]
     },
     "execution_count": 125,
     "metadata": {},
     "output_type": "execute_result"
    }
   ],
   "source": [
    "df.ix[:5,23:32]"
   ]
  },
  {
   "cell_type": "code",
   "execution_count": 126,
   "metadata": {
    "collapsed": false
   },
   "outputs": [],
   "source": [
    "df.drop(['last_pymnt_d','last_pymnt_amnt',\n",
    "         'next_pymnt_d','last_credit_pull_d'],1, inplace=True)"
   ]
  },
  {
   "cell_type": "code",
   "execution_count": 127,
   "metadata": {
    "collapsed": false
   },
   "outputs": [
    {
     "data": {
      "text/html": [
       "<div>\n",
       "<table border=\"1\" class=\"dataframe\">\n",
       "  <thead>\n",
       "    <tr style=\"text-align: right;\">\n",
       "      <th></th>\n",
       "      <th>revol_util</th>\n",
       "      <th>total_acc</th>\n",
       "      <th>last_fico_range_high</th>\n",
       "      <th>last_fico_range_low</th>\n",
       "      <th>collections_12_mths_ex_med</th>\n",
       "      <th>mths_since_last_major_derog</th>\n",
       "      <th>policy_code</th>\n",
       "      <th>fico_range</th>\n",
       "      <th>meanfico</th>\n",
       "    </tr>\n",
       "  </thead>\n",
       "  <tbody>\n",
       "    <tr>\n",
       "      <th>0</th>\n",
       "      <td>31.6</td>\n",
       "      <td>36</td>\n",
       "      <td>679</td>\n",
       "      <td>675</td>\n",
       "      <td>0</td>\n",
       "      <td>59</td>\n",
       "      <td>1</td>\n",
       "      <td>710-714</td>\n",
       "      <td>712</td>\n",
       "    </tr>\n",
       "    <tr>\n",
       "      <th>1</th>\n",
       "      <td>29.0</td>\n",
       "      <td>17</td>\n",
       "      <td>684</td>\n",
       "      <td>680</td>\n",
       "      <td>0</td>\n",
       "      <td>NaN</td>\n",
       "      <td>1</td>\n",
       "      <td>750-754</td>\n",
       "      <td>752</td>\n",
       "    </tr>\n",
       "    <tr>\n",
       "      <th>2</th>\n",
       "      <td>91.9</td>\n",
       "      <td>20</td>\n",
       "      <td>689</td>\n",
       "      <td>685</td>\n",
       "      <td>0</td>\n",
       "      <td>NaN</td>\n",
       "      <td>1</td>\n",
       "      <td>685-689</td>\n",
       "      <td>687</td>\n",
       "    </tr>\n",
       "    <tr>\n",
       "      <th>3</th>\n",
       "      <td>100.9</td>\n",
       "      <td>13</td>\n",
       "      <td>684</td>\n",
       "      <td>680</td>\n",
       "      <td>0</td>\n",
       "      <td>36</td>\n",
       "      <td>1</td>\n",
       "      <td>665-669</td>\n",
       "      <td>667</td>\n",
       "    </tr>\n",
       "    <tr>\n",
       "      <th>4</th>\n",
       "      <td>59.4</td>\n",
       "      <td>44</td>\n",
       "      <td>679</td>\n",
       "      <td>675</td>\n",
       "      <td>0</td>\n",
       "      <td>NaN</td>\n",
       "      <td>1</td>\n",
       "      <td>680-684</td>\n",
       "      <td>682</td>\n",
       "    </tr>\n",
       "    <tr>\n",
       "      <th>5</th>\n",
       "      <td>76.2</td>\n",
       "      <td>35</td>\n",
       "      <td>689</td>\n",
       "      <td>685</td>\n",
       "      <td>0</td>\n",
       "      <td>74</td>\n",
       "      <td>1</td>\n",
       "      <td>685-689</td>\n",
       "      <td>687</td>\n",
       "    </tr>\n",
       "  </tbody>\n",
       "</table>\n",
       "</div>"
      ],
      "text/plain": [
       "   revol_util  total_acc  last_fico_range_high  last_fico_range_low  \\\n",
       "0        31.6         36                   679                  675   \n",
       "1        29.0         17                   684                  680   \n",
       "2        91.9         20                   689                  685   \n",
       "3       100.9         13                   684                  680   \n",
       "4        59.4         44                   679                  675   \n",
       "5        76.2         35                   689                  685   \n",
       "\n",
       "   collections_12_mths_ex_med  mths_since_last_major_derog  policy_code  \\\n",
       "0                           0                           59            1   \n",
       "1                           0                          NaN            1   \n",
       "2                           0                          NaN            1   \n",
       "3                           0                           36            1   \n",
       "4                           0                          NaN            1   \n",
       "5                           0                           74            1   \n",
       "\n",
       "  fico_range  meanfico  \n",
       "0    710-714       712  \n",
       "1    750-754       752  \n",
       "2    685-689       687  \n",
       "3    665-669       667  \n",
       "4    680-684       682  \n",
       "5    685-689       687  "
      ]
     },
     "execution_count": 127,
     "metadata": {},
     "output_type": "execute_result"
    }
   ],
   "source": [
    "df.ix[:5,23:32]"
   ]
  },
  {
   "cell_type": "markdown",
   "metadata": {},
   "source": [
    "## Last FICO Ranges\n",
    "Our previous FICO attributes were the current ranges."
   ]
  },
  {
   "cell_type": "code",
   "execution_count": 128,
   "metadata": {
    "collapsed": false
   },
   "outputs": [],
   "source": [
    "df['last_fico_range'] = df.last_fico_range_low.astype('str') + '-' + df.last_fico_range_high.astype('str')\n",
    "df['last_meanfico'] = (df.last_fico_range_low + df.last_fico_range_high)/2\n",
    "df.drop(['last_fico_range_high','last_fico_range_low','policy_code'],1, inplace=True)"
   ]
  },
  {
   "cell_type": "markdown",
   "metadata": {},
   "source": [
    "## Wrapping Up the Data Munging\n",
    "\n",
    "Okay so now we got out data down to 61mb from 120mb. Imagine what we could do if we used more efficicent data types! Let's take one last look at it to then move on to our modeling phase."
   ]
  },
  {
   "cell_type": "code",
   "execution_count": 129,
   "metadata": {
    "collapsed": false
   },
   "outputs": [
    {
     "name": "stdout",
     "output_type": "stream",
     "text": [
      "Index([u'loan_amnt', u'funded_amnt', u'funded_amnt_inv', u'term', u'int_rate',\n",
      "       u'installment', u'emp_length', u'home_ownership', u'annual_inc',\n",
      "       u'verification_status', u'issue_d', u'purpose', u'zip_code',\n",
      "       u'addr_state', u'dti', u'delinq_2yrs', u'earliest_cr_line',\n",
      "       u'inq_last_6mths', u'mths_since_last_delinq', u'mths_since_last_record',\n",
      "       u'open_acc', u'pub_rec', u'revol_bal', u'revol_util', u'total_acc',\n",
      "       u'collections_12_mths_ex_med', u'mths_since_last_major_derog',\n",
      "       u'fico_range', u'meanfico', u'last_fico_range', u'last_meanfico'],\n",
      "      dtype='object')\n",
      "[[10400 10400 10400 ' 36 months' 6.99 321.08 8 'MORTGAGE' 58000.0\n",
      "  'not verified' 'Dec' 'credit_card' '937xx' 'CA' 14.92 0 26 2 42.0 nan 17\n",
      "  0 6133 31.6 36 0 59.0 '710-714' 712.0 '675-679' 677.0]]\n",
      "<class 'pandas.core.frame.DataFrame'>\n",
      "Int64Index: 235629 entries, 0 to 235628\n",
      "Data columns (total 31 columns):\n",
      "loan_amnt                      235629 non-null int64\n",
      "funded_amnt                    235629 non-null int64\n",
      "funded_amnt_inv                235629 non-null int64\n",
      "term                           235629 non-null object\n",
      "int_rate                       235629 non-null float64\n",
      "installment                    235629 non-null float64\n",
      "emp_length                     235629 non-null int64\n",
      "home_ownership                 235629 non-null object\n",
      "annual_inc                     235629 non-null float64\n",
      "verification_status            235629 non-null object\n",
      "issue_d                        235629 non-null object\n",
      "purpose                        235629 non-null object\n",
      "zip_code                       235629 non-null object\n",
      "addr_state                     235629 non-null object\n",
      "dti                            235629 non-null float64\n",
      "delinq_2yrs                    235629 non-null int64\n",
      "earliest_cr_line               235629 non-null int64\n",
      "inq_last_6mths                 235629 non-null int64\n",
      "mths_since_last_delinq         119748 non-null float64\n",
      "mths_since_last_record         41524 non-null float64\n",
      "open_acc                       235629 non-null int64\n",
      "pub_rec                        235629 non-null int64\n",
      "revol_bal                      235629 non-null int64\n",
      "revol_util                     235504 non-null float64\n",
      "total_acc                      235629 non-null int64\n",
      "collections_12_mths_ex_med     235629 non-null int64\n",
      "mths_since_last_major_derog    66478 non-null float64\n",
      "fico_range                     235629 non-null object\n",
      "meanfico                       235629 non-null float64\n",
      "last_fico_range                235629 non-null object\n",
      "last_meanfico                  235629 non-null float64\n",
      "dtypes: float64(10), int64(12), object(9)\n",
      "memory usage: 57.5+ MB\n"
     ]
    }
   ],
   "source": [
    "print df.columns\n",
    "print df.head(1).values\n",
    "df.info()"
   ]
  },
  {
   "cell_type": "code",
   "execution_count": 130,
   "metadata": {
    "collapsed": false
   },
   "outputs": [],
   "source": [
    "df.fillna(0.0,inplace=True)\n",
    "df.fillna(0,inplace=True)"
   ]
  },
  {
   "cell_type": "markdown",
   "metadata": {},
   "source": [
    "# 2. Our model\n",
    "Staying true to the original intent of this blog, reproducing my popular old R post, I will use a gradient boosting regression model (more on this later), even if it's easier to use random forest and avoid dummy encoding of my categorical data. If you walk through the broken out steps above you'll find that we have:\n",
    "\n",
    "1. Addressed missing data\n",
    "2. Converted strings to numerical representations where possible\n",
    "3. Dropped superfluous attributes\n",
    "\n",
    "**Note:** We have to pay special attention to how we replace missing values since we can introduce bias if the data is not missing at random.\n",
    "\n",
    "The usual next steps are to:\n",
    "1. Eliminate zero (or near-zero) variance predictors\n",
    "2. Highly and correlated predictors\n",
    "\n",
    "Due to all the categorical variables we might want to use Kendall's correlation matrix. If our data was larger we might want to reduce the size of it via more advanced feature selection methods such as clustering (choosing a single representative of each cluster), PCA, ICA, and so on. Since the purpose of this experiment is explanatory rather than predictive, we wouldn't want to use PCA and try to explain the covariates in terms of principal components.\n",
    "\n",
    "## Highly Correlated Data\n",
    "Let's examine our dataframes correlation matrix and drop highly correlated/redundant data to address multicollinearity."
   ]
  },
  {
   "cell_type": "code",
   "execution_count": 131,
   "metadata": {
    "collapsed": false
   },
   "outputs": [
    {
     "data": {
      "text/plain": [
       "funded_amnt      loan_amnt                 1.000000\n",
       "funded_amnt_inv  loan_amnt                 0.999997\n",
       "                 funded_amnt               0.999997\n",
       "installment      loan_amnt                 0.947978\n",
       "                 funded_amnt               0.947978\n",
       "                 funded_amnt_inv           0.947943\n",
       "pub_rec          mths_since_last_record    0.665077\n",
       "total_acc        open_acc                  0.684919\n",
       "dtype: float64"
      ]
     },
     "execution_count": 131,
     "metadata": {},
     "output_type": "execute_result"
    }
   ],
   "source": [
    "cor = df.corr()\n",
    "cor.loc[:,:] = np.tril(cor, k=-1) # below main lower triangle of an array\n",
    "cor = cor.stack()\n",
    "cor[(cor > 0.55) | (cor < -0.55)]"
   ]
  },
  {
   "cell_type": "markdown",
   "metadata": {},
   "source": [
    "We will drop the non-informative columns found above. Note that we missed a few columns in our munging process above such as `funded_amnt_inv` which is the amount funded by customers at that point in time which is post interest rate determination. We also missed `installment` which is the monthly payment owed by the borrower if the loan originates."
   ]
  },
  {
   "cell_type": "code",
   "execution_count": 132,
   "metadata": {
    "collapsed": false
   },
   "outputs": [],
   "source": [
    "df.drop(['zip_code','funded_amnt','funded_amnt_inv', 'installment', 'mths_since_last_delinq', 'total_acc'], axis=1, inplace=True)"
   ]
  },
  {
   "cell_type": "markdown",
   "metadata": {},
   "source": [
    "## Feature Space and Labels\n",
    "Before we go on any further and verify what we already intuitively know. Let's make a quick (wasn't really quick) plot to examine the relationship between interest rate and FICO score. We also can finish this post without replicating the same image from original post from long ago. Arguably it was a lot more intuitive to do in native ggplot back then."
   ]
  },
  {
   "cell_type": "code",
   "execution_count": 138,
   "metadata": {
    "collapsed": false
   },
   "outputs": [
    {
     "data": {
      "image/png": "[encoded data removed]",
      "text/plain": [
       "<matplotlib.figure.Figure at 0x11145bf10>"
      ]
     },
     "metadata": {},
     "output_type": "display_data"
    }
   ],
   "source": [
    "plot_df = df.query('last_meanfico > 600 & int_rate <28')[:3000]\n",
    "\n",
    "sns.set(font_scale=1.2, rc={\"lines.linewidth\": 1.5}) \n",
    "\n",
    "\n",
    "\n",
    "g = sns.lmplot(\"int_rate\", \"last_meanfico\", x_jitter= .7,  y_jitter= .1,\n",
    "           data=plot_df, hue='term',lowess=True, size=5,aspect=1.4, legend_out=False,\n",
    "           scatter_kws={ 's':20, 'alpha':.6})\n",
    "\n",
    "g.set(xlim=(2.5, 28),ylim=(580, 880),alpha = .5)\n",
    "\n",
    "g.savefig('1.png',transparent=True)"
   ]
  },
  {
   "cell_type": "code",
   "execution_count": 139,
   "metadata": {
    "collapsed": true
   },
   "outputs": [],
   "source": [
    "y = df.int_rate.values\n",
    "df.drop('int_rate',axis = 1, inplace=True)"
   ]
  },
  {
   "cell_type": "code",
   "execution_count": 38,
   "metadata": {
    "collapsed": false
   },
   "outputs": [
    {
     "data": {
      "text/plain": [
       "(array([  6.  ,   6.03,   6.49,   6.62,   6.99,   7.12,   7.49,   7.62,\n",
       "          7.69,   7.9 ,   8.19,   8.39,   8.67,   8.9 ,   9.17,   9.49,\n",
       "          9.67,  10.15,  10.49,  10.99,  11.44,  11.67,  11.99,  12.39,\n",
       "         12.49,  12.85,  12.99,  13.35,  13.53,  13.65,  13.66,  13.98,\n",
       "         14.16,  14.31,  14.47,  14.49,  14.64,  14.98,  14.99,  15.31,\n",
       "         15.59,  15.61,  15.99,  16.24,  16.29,  16.49,  16.59,  16.99,\n",
       "         17.14,  17.57,  17.86,  18.24,  18.25,  18.54,  18.92,  18.99,\n",
       "         19.2 ,  19.22,  19.24,  19.47,  19.52,  19.97,  19.99,  20.2 ,\n",
       "         20.49,  20.5 ,  20.99,  21.18,  21.48,  21.99,  22.15,  22.4 ,\n",
       "         22.45,  22.9 ,  22.99,  23.4 ,  23.43,  23.7 ,  23.99,  24.08,\n",
       "         24.5 ,  24.99,  25.57,  25.8 ,  25.83,  25.89,  25.99,  26.06]),\n",
       " <matplotlib.axes._subplots.AxesSubplot at 0x10b435bd0>)"
      ]
     },
     "execution_count": 38,
     "metadata": {},
     "output_type": "execute_result"
    },
    {
     "data": {
      "image/png": "[encoded data removed]",
      "text/plain": [
       "<matplotlib.figure.Figure at 0x10b42b6d0>"
      ]
     },
     "metadata": {},
     "output_type": "display_data"
    }
   ],
   "source": [
    "np.unique(y), pd.Series(y).plot(kind='hist',alpha=.7, bins=20, title='Interest Rate Distribution')"
   ]
  },
  {
   "cell_type": "markdown",
   "metadata": {},
   "source": [
    "We're about to blow up the feature space by dummy-encoding our categorical variables! This will make our dataframe 8x bgger in memory going from 60 to 470MB."
   ]
  },
  {
   "cell_type": "code",
   "execution_count": 39,
   "metadata": {
    "collapsed": false
   },
   "outputs": [
    {
     "name": "stdout",
     "output_type": "stream",
     "text": [
      "<class 'pandas.core.frame.DataFrame'>\n",
      "Int64Index: 235629 entries, 0 to 235628\n",
      "Columns: 209 entries, loan_amnt to last_fico_range_845-850\n",
      "dtypes: float64(200), int64(9)\n",
      "memory usage: 377.5 MB\n"
     ]
    }
   ],
   "source": [
    "df = pd.get_dummies(df)\n",
    "df.info()"
   ]
  },
  {
   "cell_type": "markdown",
   "metadata": {},
   "source": [
    "## Gradient Boosted Regression Trees\n",
    "\n",
    "Like the original post we will use GBTs. The tradeofs are listed below:\n",
    "\n",
    "Advantages\n",
    "\n",
    "- **Heterogeneous data** - Deatures measured on different scale such as employment length vs annual income\n",
    "- **Supports different loss functions** - We can pick a loss function that suites our problem. If our data contains a lot of missing labels like huber loss, or something specific for ranking problems.\n",
    "- **Automatically detects (non-linear) feature interactions**,\n",
    "\n",
    "Disadvantages\n",
    "\n",
    "- **Requires careful tuning** - RF are faster to tune, they have essentially one parameter\n",
    "- **Slow to train** - But fast to predict\n",
    "- **Cannot extrapolate** - It is not possible to predict beyond the minimum and maximum limits of the response variable in the training data."
   ]
  },
  {
   "cell_type": "code",
   "execution_count": 40,
   "metadata": {
    "collapsed": true
   },
   "outputs": [],
   "source": [
    "from sklearn import ensemble\n",
    "from sklearn import datasets\n",
    "from sklearn.utils import shuffle\n",
    "from sklearn.metrics import mean_squared_error\n",
    "from matplotlib import pyplot as plt"
   ]
  },
  {
   "cell_type": "code",
   "execution_count": 41,
   "metadata": {
    "collapsed": true
   },
   "outputs": [],
   "source": [
    "X, y = shuffle(df.values, y, random_state=30)\n",
    "X = X.astype(np.float32)"
   ]
  },
  {
   "cell_type": "code",
   "execution_count": 42,
   "metadata": {
    "collapsed": false
   },
   "outputs": [],
   "source": [
    "offset = int(X.shape[0] * 0.75)\n",
    "X_train, y_train = X[:offset], y[:offset]\n",
    "X_test, y_test = X[offset:], y[offset:]"
   ]
  },
  {
   "cell_type": "markdown",
   "metadata": {},
   "source": [
    "## Training & Tuning\n",
    "We won't spend too much time in this post tuning, but in general GBTs give us threes knobs we can tune for overfitting: (1) Tree Structure, (2) Shrinkage, (3) Stochastic Gradient Boosting. In the interest of time we'll do a simple grid search amongst a hand chosen set of hyper-parameters.\n",
    "\n",
    "One of the most effective paramerters to tune for when working with a large feature set is `max_features` as it introduces a notion of randomization similar to Random Forests. Playing with max features allows us to perform subsampling of our feature space before finding the best split node. a `max_features` setting of .20 for example would grow each tree on 20% of the featureset. Conversely the `subsample` feature would use 20% of the training data (all features). Subsample interacts with the parameter n_estimators. Choosing subsample < 1.0 leads to a reduction of variance and an increase in bias.\n",
    "\n",
    "### Loss Function\n",
    "\n",
    "- Squared loss minimizes expectation. Pick it when learning expected return on a stock.\n",
    "\n",
    "- Logistic loss minimizes probability. Pick it when learning probability of click on advertisement.\n",
    "\n",
    "- Hinge loss minimizes the 0,1 / yes-no question. Pick it when you want a hard prediction.\n",
    "\n",
    "- Quantile loss minimizes the median. Pick it when you want to predict house prices.\n",
    "\n",
    "- Ensembling multiple loss functions\n",
    "\n",
    "Adapted from: https://github.com/JohnLangford/vowpal_wabbit/wiki/Loss-functions"
   ]
  },
  {
   "cell_type": "code",
   "execution_count": null,
   "metadata": {
    "collapsed": false
   },
   "outputs": [],
   "source": [
    "from sklearn.grid_search import GridSearchCV\n",
    "\n",
    "param_grid = {'learning_rate': [0.1, 0.05, 0.02, 0.01],\n",
    "              'max_depth': [4, 6],\n",
    "              'min_samples_leaf': [3, 5, 9, 17],\n",
    "              'max_features': [1.0, 0.3, 0.1]\n",
    "              }\n",
    "# param_grid = {'learning_rate': [0.1],\n",
    "#               'max_depth': [4],\n",
    "#               'min_samples_leaf': [3],\n",
    "#               'max_features': [1.0],\n",
    "#               }\n",
    "\n",
    "est = GridSearchCV(ensemble.GradientBoostingRegressor(n_estimators=100),\n",
    "                   param_grid, n_jobs=4, refit=True)\n",
    "\n",
    "est.fit(X_train, y_train)\n",
    "\n",
    "best_params = est.best_params_"
   ]
  },
  {
   "cell_type": "code",
   "execution_count": 43,
   "metadata": {
    "collapsed": false
   },
   "outputs": [
    {
     "name": "stdout",
     "output_type": "stream",
     "text": [
      "CPU times: user 2h 15min 34s, sys: 5min 43s, total: 2h 21min 18s\n",
      "Wall time: 3h 28min 36s\n"
     ]
    }
   ],
   "source": [
    "%%time\n",
    "est = ensemble.GradientBoostingRegressor(n_estimators=2000).fit(X_train, y_train)"
   ]
  },
  {
   "cell_type": "code",
   "execution_count": 48,
   "metadata": {
    "collapsed": false
   },
   "outputs": [
    {
     "name": "stdout",
     "output_type": "stream",
     "text": [
      ".7644790837986264\n"
     ]
    }
   ],
   "source": [
    "est.score(X_test,y_test)"
   ]
  },
  {
   "cell_type": "markdown",
   "metadata": {},
   "source": [
    "## Examing results\n",
    "In terms of simple model accuracy we know we're doing pretty good with the above score over 3000 iterations gets us in the 90s, 1000 gets us in the 60s.Let's examine how drastically accuracy increased with each iteration and see which model features were most powerful in predicting the issued iterest rate."
   ]
  },
  {
   "cell_type": "code",
   "execution_count": 54,
   "metadata": {
    "collapsed": false,
    "scrolled": true
   },
   "outputs": [
    {
     "data": {
      "image/png": "[encoded data removed]",
      "text/plain": [
       "<matplotlib.figure.Figure at 0x10c56fd90>"
      ]
     },
     "metadata": {},
     "output_type": "display_data"
    }
   ],
   "source": [
    "sns.set(font_scale=1, rc={\"lines.linewidth\":1.2}) \n",
    "\n",
    "\n",
    "Iterations = 2000\n",
    "# compute test set deviance\n",
    "test_score = np.zeros((Iterations,), dtype=np.float64)\n",
    "\n",
    "for i, y_pred in enumerate(est.staged_predict(X_test)):\n",
    "    test_score[i] = est.loss_(y_test, y_pred)\n",
    "\n",
    "plt.figure(figsize=(14, 6)).subplots_adjust(wspace=.3)\n",
    "\n",
    "plt.subplot(1, 2, 1)\n",
    "plt.title('Deviance over iterations')\n",
    "plt.plot(np.arange(Iterations) + 1, est.train_score_, 'dodgerblue',\n",
    "         label='Training Set Deviance', alpha=.6)\n",
    "plt.plot(np.arange(Iterations) + 1, test_score, 'firebrick',\n",
    "         label='Test Set Deviance', alpha=.6)\n",
    "plt.legend(loc='upper right')\n",
    "plt.xlabel('Boosting Iterations')\n",
    "plt.ylabel('Deviance')\n",
    "\n",
    "\n",
    "plt.subplot(1, 2, 2,)\n",
    "# Top Ten\n",
    "feature_importance = est.feature_importances_\n",
    "feature_importance = 100.0 * (feature_importance / feature_importance.max())\n",
    "\n",
    "indices = np.argsort(feature_importance)[-10:]\n",
    "plt.barh(np.arange(10), feature_importance[indices],color='dodgerblue',alpha=.4)\n",
    "plt.yticks(np.arange(10 + 0.25), np.array(df.columns)[indices])\n",
    "_ = plt.xlabel('Relative importance'), plt.title('Top Ten Important Variables')"
   ]
  },
  {
   "cell_type": "markdown",
   "metadata": {},
   "source": [
    "### Partial Dependence Plots\n",
    "When working with tree models such as GBTs or Random Forests, I like to take a look at Partial Dependence Plots to understand the functional relations between predictors and an outcome. Tese plots capture marginal effect of a given variable or variables on the target function, in this case interest rate.\n",
    "\n",
    "In the first plot, tt is interesting to note that below $25k annual income, Debt-to-Income ratio has a large effect on the interest rate. The margin gets significantly larger after 75k. The steepness of meanfico is especially interesting, it looks like no real distinction is made for customers with a score over 760."
   ]
  },
  {
   "cell_type": "code",
   "execution_count": 55,
   "metadata": {
    "collapsed": false
   },
   "outputs": [
    {
     "data": {
      "image/png": "[encoded data removed]",
      "text/plain": [
       "<matplotlib.figure.Figure at 0x1114b7650>"
      ]
     },
     "metadata": {},
     "output_type": "display_data"
    }
   ],
   "source": [
    "from sklearn.ensemble.partial_dependence import plot_partial_dependence\n",
    "\n",
    "comp_features = [('annual_inc','dti'),'loan_amnt','meanfico','annual_inc', 'inq_last_6mths', 'revol_util', 'dti']\n",
    "\n",
    "fig, axs = plot_partial_dependence(est, X_train, comp_features,\n",
    "                                   feature_names=list(df.columns),\n",
    "                                   figsize=(14, 14), n_jobs=4)"
   ]
  },
  {
   "cell_type": "markdown",
   "metadata": {},
   "source": [
    "Trying out some alternate plots from `seaborn`."
   ]
  },
  {
   "cell_type": "code",
   "execution_count": 56,
   "metadata": {
    "collapsed": false
   },
   "outputs": [
    {
     "name": "stdout",
     "output_type": "stream",
     "text": [
      "CPU times: user 2min 3s, sys: 1.14 s, total: 2min 5s\n",
      "Wall time: 2min 6s\n"
     ]
    },
    {
     "data": {
      "text/plain": [
       "<seaborn.axisgrid.JointGrid at 0x110937ed0>"
      ]
     },
     "execution_count": 56,
     "metadata": {},
     "output_type": "execute_result"
    },
    {
     "data": {
      "image/png": "[encoded data removed]",
      "text/plain": [
       "<matplotlib.figure.Figure at 0x10d2e70d0>"
      ]
     },
     "metadata": {},
     "output_type": "display_data"
    }
   ],
   "source": [
    "%%time\n",
    "sns.jointplot(y,df.meanfico.values,annot_kws=dict(stat=\"r\"),\n",
    "              kind=\"kde\", color=\"#4CB391\").set_axis_labels(\"int_rate\", \"mean_fico\")"
   ]
  }
 ],
 "metadata": {
  "kernelspec": {
   "display_name": "Python 2",
   "language": "python",
   "name": "python2"
  },
  "language_info": {
   "codemirror_mode": {
    "name": "ipython",
    "version": 2
   },
   "file_extension": ".py",
   "mimetype": "text/x-python",
   "name": "python",
   "nbconvert_exporter": "python",
   "pygments_lexer": "ipython2",
   "version": "2.7.10"
  }
 },
 "nbformat": 4,
 "nbformat_minor": 0
}
